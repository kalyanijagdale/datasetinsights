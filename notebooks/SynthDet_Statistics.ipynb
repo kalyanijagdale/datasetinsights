{
 "cells": [
  {
   "cell_type": "markdown",
   "metadata": {},
   "source": [
    "# Dataset Statistics for SynthDet\n",
    "This example notebook shows how to use datasetinsights to load synthetic datasets generated from the [SynthDet](https://github.com/Unity-Technologies/synthdet) example project and visualize dataset statistics.\n",
    "\n",
    "In addition to the object bounding boxes, SynthDet produces a mix of built-in and project-specific metrics. Statistics for the `RenderedObjectInfo` metrics built into the Perception package can be calculated using `datasetinsights.data.datasets.statistics.RenderedObjectInfo`. SynthDet-specific statistics are loaded via `datasetinsights.data.simulation.Metrics` and are calculated directly in this notebook.\n",
    "\n",
    "## Setup dataset\n",
    "If the dataset was generated locally, point `data_root` below to the path of the dataset. The `GUID` folder suffix should be changed accordingly.   "
   ]
  },
  {
   "cell_type": "code",
   "execution_count": 2,
   "metadata": {},
   "outputs": [],
   "source": [
    "data_root = \"/data/<GUID>\""
   ]
  },
  {
   "cell_type": "code",
   "execution_count": 7,
   "metadata": {},
   "outputs": [],
   "source": [
    "import pandas as pd\n",
    "import os\n",
    "import random\n",
    "from PIL import Image\n",
    "\n",
    "import datasetinsights.datasets.unity_perception as sim\n",
    "import datasetinsights.stats.statistics as stat\n",
    "from datasetinsights.io import download_manifest, Downloader\n",
    "from datasetinsights.stats import bar_plot, histogram_plot, rotation_plot\n",
    "from datasetinsights.stats import plot_bboxes\n",
    "from datasetinsights.datasets import read_bounding_box_2d"
   ]
  },
  {
   "cell_type": "markdown",
   "metadata": {},
   "source": [
    "### Unity Simulation [Optional]\n",
    "If the dataset was generated on Unity Simulation, the following cells can be used to download the metrics needed for dataset statistics.\n",
    "\n",
    "Provide the `run-execution-id` which generated the dataset and a valid `auth_token` in the following cell. The `auth-token` can be generated using the Unity Simulation [CLI](https://github.com/Unity-Technologies/Unity-Simulation-Docs/blob/master/doc/cli.md#usim-inspect-auth)."
   ]
  },
  {
   "cell_type": "code",
   "execution_count": 7,
   "metadata": {},
   "outputs": [],
   "source": [
    "# data_volume = \"/data\"   # directory where datasets should be downloaded to and loaded from\n",
    "# run_execution_id = \"ojEawoj\"      # Unity Simulation run-execution-id\n",
    "# auth_token = \"xxxx\"     # Unity Simulation auth token\n",
    "# project_id = \"xxxx\"   # Unity Project ID\n",
    "\n",
    "# data_root = os.path.join(data_volume, run_execution_id)"
   ]
  },
  {
   "cell_type": "code",
   "execution_count": null,
   "metadata": {},
   "outputs": [],
   "source": []
  },
  {
   "cell_type": "markdown",
   "metadata": {},
   "source": [
    "Before loading the dataset metadata for statistics we first download the relevant files from Unity Simulation. For downloading files, Unity Simulation provides a manifest file providing file paths and signed urls for each file. `download_manifest()` will download the manifest file to disk. `Download` can then be used to download the metrics and metric definitions."
   ]
  },
  {
   "cell_type": "code",
   "execution_count": null,
   "metadata": {},
   "outputs": [],
   "source": [
    "# manifest_file = os.path.join(data_volume, f\"{run_execution_id}.csv\")\n",
    "# download_manifest(run_execution_id, manifest_file, auth_token, project_id)\n",
    "\n",
    "# dl = Downloader(manifest_file, data_root, use_cache=True)\n",
    "# dl.download_references()\n",
    "# dl.download_metrics()"
   ]
  },
  {
   "cell_type": "markdown",
   "metadata": {},
   "source": [
    "## Load dataset metadata\n",
    "Once the dataset metadata is downloaded, it can be loaded for statistics using `datasetinsights.data.simulation`. Annotation and metric definitions are loaded into pandas dataframes using `AnnotationDefinitions` and `MetricDefinitions` respectively."
   ]
  },
  {
   "cell_type": "code",
   "execution_count": null,
   "metadata": {},
   "outputs": [],
   "source": [
    "ann_def = sim.AnnotationDefinitions(data_root)\n",
    "ann_def.table"
   ]
  },
  {
   "cell_type": "code",
   "execution_count": null,
   "metadata": {},
   "outputs": [],
   "source": [
    "metric_def = sim.MetricDefinitions(data_root)\n",
    "metric_def.table"
   ]
  },
  {
   "cell_type": "markdown",
   "metadata": {},
   "source": [
    "## Built-in Statistics\n",
    "The following tables and charts are supplied by `datasetinsights.data.datasets.statistics.RenderedObjectInfo` on datasets that include the \"rendered object info\" metric."
   ]
  },
  {
   "cell_type": "code",
   "execution_count": null,
   "metadata": {},
   "outputs": [],
   "source": [
    "max_samples = 10000          # maximum number of samples points used in histogram plots\n",
    "\n",
    "rendered_object_info_definition_id = \"659c6e36-f9f8-4dd6-9651-4a80e51eabc4\"\n",
    "roinfo = stat.RenderedObjectInfo(data_root=data_root, def_id=rendered_object_info_definition_id)"
   ]
  },
  {
   "cell_type": "markdown",
   "metadata": {},
   "source": [
    "### Descriptive Statistics"
   ]
  },
  {
   "cell_type": "code",
   "execution_count": null,
   "metadata": {},
   "outputs": [],
   "source": [
    "roinfo.num_captures()\n",
    "roinfo.raw_table.head(3)"
   ]
  },
  {
   "cell_type": "markdown",
   "metadata": {},
   "source": [
    "### Total Object Count"
   ]
  },
  {
   "cell_type": "code",
   "execution_count": null,
   "metadata": {},
   "outputs": [],
   "source": [
    "total_count = roinfo.total_counts()\n",
    "total_count"
   ]
  },
  {
   "cell_type": "code",
   "execution_count": null,
   "metadata": {},
   "outputs": [],
   "source": [
    "bar_plot(\n",
    "    total_count, \n",
    "    x=\"label_id\", \n",
    "    y=\"count\", \n",
    "    x_title=\"Label Name\",\n",
    "    y_title=\"Count\",\n",
    "    title=\"Total Object Count in Dataset\",\n",
    "    hover_name=\"label_name\"\n",
    ")"
   ]
  },
  {
   "cell_type": "markdown",
   "metadata": {},
   "source": [
    "### Per Capture Object Count"
   ]
  },
  {
   "cell_type": "code",
   "execution_count": null,
   "metadata": {},
   "outputs": [],
   "source": [
    "per_capture_count = roinfo.per_capture_counts()\n",
    "per_capture_count.head(10)"
   ]
  },
  {
   "cell_type": "code",
   "execution_count": null,
   "metadata": {},
   "outputs": [],
   "source": [
    "histogram_plot(\n",
    "    per_capture_count, \n",
    "    x=\"count\",  \n",
    "    x_title=\"Object Counts Per Capture\",\n",
    "    y_title=\"Frequency\",\n",
    "    title=\"Distribution of Object Counts Per Capture\",\n",
    "    max_samples=max_samples\n",
    ")"
   ]
  },
  {
   "cell_type": "markdown",
   "metadata": {},
   "source": [
    "### Object Visible Pixels"
   ]
  },
  {
   "cell_type": "code",
   "execution_count": null,
   "metadata": {},
   "outputs": [],
   "source": [
    "histogram_plot(\n",
    "    roinfo.raw_table, \n",
    "    x=\"visible_pixels\",  \n",
    "    x_title=\"Visible Pixels Per Object\",\n",
    "    y_title=\"Frequency\",\n",
    "    title=\"Distribution of Visible Pixels Per Object\",\n",
    "    max_samples=max_samples\n",
    ")"
   ]
  },
  {
   "cell_type": "markdown",
   "metadata": {},
   "source": [
    "## SynthDet Statistics\n",
    "Metrics specific to the simulation can be loaded using `datasetinsights.data.simulation.Metrics`. "
   ]
  },
  {
   "cell_type": "code",
   "execution_count": null,
   "metadata": {},
   "outputs": [],
   "source": [
    "metrics = sim.Metrics(data_root=data_root)"
   ]
  },
  {
   "cell_type": "markdown",
   "metadata": {},
   "source": [
    "### Foreground placement info"
   ]
  },
  {
   "cell_type": "code",
   "execution_count": null,
   "metadata": {},
   "outputs": [],
   "source": [
    "foreground_placement_info_definition_id = \"061e08cc-4428-4926-9933-a6732524b52b\"\n",
    "columns = (\"x_rot\", \"y_rot\", \"z_rot\")\n",
    "\n",
    "def read_foreground_placement_info(metrics):\n",
    "    filtered_metrics = metrics.filter_metrics(foreground_placement_info_definition_id)\n",
    "    combined = pd.DataFrame(filtered_metrics[\"rotation\"].to_list(), columns=columns)\n",
    "    \n",
    "    return combined"
   ]
  },
  {
   "cell_type": "code",
   "execution_count": null,
   "metadata": {},
   "outputs": [],
   "source": [
    "orientation = read_foreground_placement_info(metrics)\n",
    "orientation.head(10)"
   ]
  },
  {
   "cell_type": "code",
   "execution_count": null,
   "metadata": {},
   "outputs": [],
   "source": [
    "rotation_plot(\n",
    "    orientation,\n",
    "    x=\"x_rot\",\n",
    "    y=\"y_rot\",\n",
    "    z=\"z_rot\",\n",
    "    title=\"Object orientations\",\n",
    "    max_samples=max_samples\n",
    ")"
   ]
  },
  {
   "cell_type": "code",
   "execution_count": null,
   "metadata": {},
   "outputs": [],
   "source": [
    "histogram_plot(\n",
    "    orientation, \n",
    "    x=\"x_rot\",  \n",
    "    x_title=\"Object Rotation (Degree)\",\n",
    "    y_title=\"Frequency\",\n",
    "    title=\"Distribution of Object Rotations along X direction\",\n",
    "    max_samples=max_samples\n",
    ")"
   ]
  },
  {
   "cell_type": "code",
   "execution_count": null,
   "metadata": {},
   "outputs": [],
   "source": [
    "histogram_plot(\n",
    "    orientation, \n",
    "    x=\"y_rot\",  \n",
    "    x_title=\"Object Rotation (Degree)\",\n",
    "    y_title=\"Frequency\",\n",
    "    title=\"Distribution of Object Rotations along Y direction\",\n",
    "    max_samples=max_samples\n",
    ")"
   ]
  },
  {
   "cell_type": "code",
   "execution_count": null,
   "metadata": {},
   "outputs": [],
   "source": [
    "histogram_plot(\n",
    "    orientation, \n",
    "    x=\"z_rot\",  \n",
    "    x_title=\"Object Rotation (Degree)\",\n",
    "    y_title=\"Frequency\",\n",
    "    title=\"Distribution of Object Rotations along Z direction\",\n",
    "    max_samples=max_samples\n",
    ")"
   ]
  },
  {
   "cell_type": "markdown",
   "metadata": {},
   "source": [
    "### Lighting info "
   ]
  },
  {
   "cell_type": "code",
   "execution_count": null,
   "metadata": {},
   "outputs": [],
   "source": [
    "lighting_info_definition_id = \"939248ee-668a-4e98-8e79-e7909f034a47\"\n",
    "x_y_columns = [\"x_rotation\", \"y_rotation\"]\n",
    "color_columns = [\"color.r\", \"color.g\", \"color.b\", \"color.a\"]\n",
    "\n",
    "def read_lighting_info(metrics):\n",
    "    filtered_metrics = metrics.filter_metrics(lighting_info_definition_id)\n",
    "    colors = pd.json_normalize(filtered_metrics[\"color\"])\n",
    "    colors.columns = color_columns\n",
    "    combined = pd.concat([filtered_metrics[x_y_columns], colors], axis=1, join='inner')\n",
    "\n",
    "    return combined"
   ]
  },
  {
   "cell_type": "code",
   "execution_count": null,
   "metadata": {},
   "outputs": [],
   "source": [
    "lighting = read_lighting_info(metrics)\n",
    "lighting.head(5)"
   ]
  },
  {
   "cell_type": "code",
   "execution_count": null,
   "metadata": {},
   "outputs": [],
   "source": [
    "rotation_plot(\n",
    "    lighting,\n",
    "    x=\"x_rotation\",\n",
    "    y=\"y_rotation\",\n",
    "    title=\"Light orientations\",\n",
    "    max_samples=max_samples\n",
    ")"
   ]
  },
  {
   "cell_type": "code",
   "execution_count": null,
   "metadata": {},
   "outputs": [],
   "source": [
    "histogram_plot(\n",
    "    lighting, \n",
    "    x=\"x_rotation\",  \n",
    "    x_title=\"Lighting Rotation (Degree)\",\n",
    "    y_title=\"Frequency\",\n",
    "    title=\"Distribution of Lighting Rotations along X direction\",\n",
    "    max_samples=max_samples\n",
    ")"
   ]
  },
  {
   "cell_type": "code",
   "execution_count": null,
   "metadata": {},
   "outputs": [],
   "source": [
    "histogram_plot(\n",
    "    lighting, \n",
    "    x=\"y_rotation\",  \n",
    "    x_title=\"Lighting Rotation (Degree)\",\n",
    "    y_title=\"Frequency\",\n",
    "    title=\"Distribution of Lighting Rotations along Y direction\",\n",
    "    max_samples=max_samples\n",
    ")"
   ]
  },
  {
   "cell_type": "code",
   "execution_count": null,
   "metadata": {},
   "outputs": [],
   "source": [
    "histogram_plot(\n",
    "    lighting, \n",
    "    x=\"color.r\",  \n",
    "    x_title=\"Lighting Color\",\n",
    "    y_title=\"Frequency\",\n",
    "    title=\"Distribution of Lighting Color Redness\",\n",
    "    max_samples=max_samples\n",
    ")"
   ]
  },
  {
   "cell_type": "code",
   "execution_count": null,
   "metadata": {},
   "outputs": [],
   "source": [
    "histogram_plot(\n",
    "    lighting, \n",
    "    x=\"color.g\",  \n",
    "    x_title=\"Lighting Color\",\n",
    "    y_title=\"Frequency\",\n",
    "    title=\"Distribution of Lighting Color Greeness\",\n",
    "    max_samples=max_samples\n",
    ")"
   ]
  },
  {
   "cell_type": "code",
   "execution_count": null,
   "metadata": {},
   "outputs": [],
   "source": [
    "histogram_plot(\n",
    "    lighting, \n",
    "    x=\"color.b\",  \n",
    "    x_title=\"Lighting Color\",\n",
    "    y_title=\"Frequency\",\n",
    "    title=\"Distribution of Lighting Color Blueness\",\n",
    "    max_samples=max_samples\n",
    ")"
   ]
  },
  {
   "cell_type": "markdown",
   "metadata": {},
   "source": [
    "## Images With 2D Bounding Boxes\n",
    "\n",
    "In this section, we provide sample code to render 2d bounding boxes on top of the captured images."
   ]
  },
  {
   "cell_type": "markdown",
   "metadata": {},
   "source": [
    "### Unity Simulation [Optional]\n",
    "If the dataset was generated on Unity Simulation, the following cells can be used to download the images, captures and annotations in the dataset. Make sure you have enough disk space to store all files. For example, a dataset with 100K captures requires roughly 300GiB storage."
   ]
  },
  {
   "cell_type": "code",
   "execution_count": null,
   "metadata": {},
   "outputs": [],
   "source": [
    "# dl.download_captures()\n",
    "# dl.download_binary_files()"
   ]
  },
  {
   "cell_type": "markdown",
   "metadata": {},
   "source": [
    "### Captures"
   ]
  },
  {
   "cell_type": "code",
   "execution_count": null,
   "metadata": {},
   "outputs": [],
   "source": [
    "bounding_box_definition_id = \"c31620e3-55ff-4af6-ae86-884aa0daa9b2\"\n",
    "cap = sim.Captures(data_root)\n",
    "captures = cap.filter(def_id=bounding_box_definition_id)\n",
    "captures.head(3)"
   ]
  },
  {
   "cell_type": "markdown",
   "metadata": {},
   "source": [
    "### Visualize"
   ]
  },
  {
   "cell_type": "code",
   "execution_count": null,
   "metadata": {},
   "outputs": [],
   "source": [
    "line_width = 5\n",
    "resize_scale = 2\n",
    "\n",
    "def draw_bounding_boxes(filename, annotation):\n",
    "    filepath = os.path.join(data_root, filename)\n",
    "    image = Image.open(filepath)\n",
    "    boxes = read_bounding_box_2d(annotation)\n",
    "    img_with_boxes = plot_bboxes(image, boxes, box_line_width=line_width)\n",
    "    print(f\"Image: {filename}\")\n",
    "    new_size = (img_with_boxes.width // resize_scale, img_with_boxes.height // resize_scale)\n",
    "    \n",
    "    return img_with_boxes.resize(new_size)\n",
    "    "
   ]
  },
  {
   "cell_type": "code",
   "execution_count": null,
   "metadata": {},
   "outputs": [],
   "source": [
    "# pick an index at random\n",
    "index = random.randrange(captures.shape[0])\n",
    "\n",
    "filename = captures.loc[index, \"filename\"]\n",
    "annotation = captures.loc[index, \"annotation.values\"]\n",
    "draw_bounding_boxes(filename, annotation)"
   ]
  },
  {
   "cell_type": "code",
   "execution_count": null,
   "metadata": {},
   "outputs": [],
   "source": []
  }
 ],
 "metadata": {
  "kernelspec": {
   "display_name": "Python 3",
   "language": "python",
   "name": "python3"
  },
  "language_info": {
   "codemirror_mode": {
    "name": "ipython",
    "version": 3
   },
   "file_extension": ".py",
   "mimetype": "text/x-python",
   "name": "python",
   "nbconvert_exporter": "python",
   "pygments_lexer": "ipython3",
   "version": "3.7.6"
  }
 },
 "nbformat": 4,
 "nbformat_minor": 4
}
